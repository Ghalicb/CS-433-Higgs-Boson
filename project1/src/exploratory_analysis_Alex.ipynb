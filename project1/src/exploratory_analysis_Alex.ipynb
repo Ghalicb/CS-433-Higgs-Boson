{
 "cells": [
  {
   "cell_type": "code",
   "execution_count": 1,
   "metadata": {},
   "outputs": [],
   "source": [
    "%matplotlib inline\n",
    "import numpy as np\n",
    "import matplotlib.pyplot as plt\n",
    "import pandas as pd\n",
    "%load_ext autoreload\n",
    "%autoreload 2"
   ]
  },
  {
   "cell_type": "code",
   "execution_count": 166,
   "metadata": {},
   "outputs": [],
   "source": [
    "from implementations import *"
   ]
  },
  {
   "cell_type": "code",
   "execution_count": 3,
   "metadata": {},
   "outputs": [],
   "source": [
    "DATA_TRAIN_PATH = '../data/train.csv'\n",
    "DATA_TEST_PATH = '../data/test.csv'\n",
    "y_train, tX_train, ids_train = load_csv_data(DATA_TRAIN_PATH, sub_sample=False)\n",
    "y_test, tX_test, ids_test = load_csv_data(DATA_TEST_PATH, sub_sample=False)"
   ]
  },
  {
   "cell_type": "markdown",
   "metadata": {},
   "source": [
    "# Data analysis"
   ]
  },
  {
   "cell_type": "code",
   "execution_count": 4,
   "metadata": {},
   "outputs": [
    {
     "name": "stdout",
     "output_type": "stream",
     "text": [
      "We have 250000 datapoints for training with 30 features.\n"
     ]
    }
   ],
   "source": [
    "N = len(y_train)\n",
    "D = tX_train.shape[1]\n",
    "print(\"We have {} datapoints for training with {} features.\".format(N,D))"
   ]
  },
  {
   "cell_type": "code",
   "execution_count": 5,
   "metadata": {},
   "outputs": [
    {
     "data": {
      "text/html": [
       "<div>\n",
       "<style scoped>\n",
       "    .dataframe tbody tr th:only-of-type {\n",
       "        vertical-align: middle;\n",
       "    }\n",
       "\n",
       "    .dataframe tbody tr th {\n",
       "        vertical-align: top;\n",
       "    }\n",
       "\n",
       "    .dataframe thead th {\n",
       "        text-align: right;\n",
       "    }\n",
       "</style>\n",
       "<table border=\"1\" class=\"dataframe\">\n",
       "  <thead>\n",
       "    <tr style=\"text-align: right;\">\n",
       "      <th></th>\n",
       "      <th>0</th>\n",
       "      <th>1</th>\n",
       "      <th>2</th>\n",
       "      <th>3</th>\n",
       "      <th>4</th>\n",
       "      <th>5</th>\n",
       "      <th>6</th>\n",
       "      <th>7</th>\n",
       "      <th>8</th>\n",
       "      <th>9</th>\n",
       "      <th>...</th>\n",
       "      <th>20</th>\n",
       "      <th>21</th>\n",
       "      <th>22</th>\n",
       "      <th>23</th>\n",
       "      <th>24</th>\n",
       "      <th>25</th>\n",
       "      <th>26</th>\n",
       "      <th>27</th>\n",
       "      <th>28</th>\n",
       "      <th>29</th>\n",
       "    </tr>\n",
       "  </thead>\n",
       "  <tbody>\n",
       "    <tr>\n",
       "      <th>0</th>\n",
       "      <td>138.470</td>\n",
       "      <td>51.655</td>\n",
       "      <td>97.827</td>\n",
       "      <td>27.980</td>\n",
       "      <td>0.91</td>\n",
       "      <td>124.711</td>\n",
       "      <td>2.666</td>\n",
       "      <td>3.064</td>\n",
       "      <td>41.928</td>\n",
       "      <td>197.760</td>\n",
       "      <td>...</td>\n",
       "      <td>-0.277</td>\n",
       "      <td>258.733</td>\n",
       "      <td>2.0</td>\n",
       "      <td>67.435</td>\n",
       "      <td>2.150</td>\n",
       "      <td>0.444</td>\n",
       "      <td>46.062</td>\n",
       "      <td>1.24</td>\n",
       "      <td>-2.475</td>\n",
       "      <td>113.497</td>\n",
       "    </tr>\n",
       "    <tr>\n",
       "      <th>1</th>\n",
       "      <td>160.937</td>\n",
       "      <td>68.768</td>\n",
       "      <td>103.235</td>\n",
       "      <td>48.146</td>\n",
       "      <td>-999.00</td>\n",
       "      <td>-999.000</td>\n",
       "      <td>-999.000</td>\n",
       "      <td>3.473</td>\n",
       "      <td>2.078</td>\n",
       "      <td>125.157</td>\n",
       "      <td>...</td>\n",
       "      <td>-1.916</td>\n",
       "      <td>164.546</td>\n",
       "      <td>1.0</td>\n",
       "      <td>46.226</td>\n",
       "      <td>0.725</td>\n",
       "      <td>1.158</td>\n",
       "      <td>-999.000</td>\n",
       "      <td>-999.00</td>\n",
       "      <td>-999.000</td>\n",
       "      <td>46.226</td>\n",
       "    </tr>\n",
       "    <tr>\n",
       "      <th>2</th>\n",
       "      <td>-999.000</td>\n",
       "      <td>162.172</td>\n",
       "      <td>125.953</td>\n",
       "      <td>35.635</td>\n",
       "      <td>-999.00</td>\n",
       "      <td>-999.000</td>\n",
       "      <td>-999.000</td>\n",
       "      <td>3.148</td>\n",
       "      <td>9.336</td>\n",
       "      <td>197.814</td>\n",
       "      <td>...</td>\n",
       "      <td>-2.186</td>\n",
       "      <td>260.414</td>\n",
       "      <td>1.0</td>\n",
       "      <td>44.251</td>\n",
       "      <td>2.053</td>\n",
       "      <td>-2.028</td>\n",
       "      <td>-999.000</td>\n",
       "      <td>-999.00</td>\n",
       "      <td>-999.000</td>\n",
       "      <td>44.251</td>\n",
       "    </tr>\n",
       "    <tr>\n",
       "      <th>3</th>\n",
       "      <td>143.905</td>\n",
       "      <td>81.417</td>\n",
       "      <td>80.943</td>\n",
       "      <td>0.414</td>\n",
       "      <td>-999.00</td>\n",
       "      <td>-999.000</td>\n",
       "      <td>-999.000</td>\n",
       "      <td>3.310</td>\n",
       "      <td>0.414</td>\n",
       "      <td>75.968</td>\n",
       "      <td>...</td>\n",
       "      <td>0.060</td>\n",
       "      <td>86.062</td>\n",
       "      <td>0.0</td>\n",
       "      <td>-999.000</td>\n",
       "      <td>-999.000</td>\n",
       "      <td>-999.000</td>\n",
       "      <td>-999.000</td>\n",
       "      <td>-999.00</td>\n",
       "      <td>-999.000</td>\n",
       "      <td>0.000</td>\n",
       "    </tr>\n",
       "    <tr>\n",
       "      <th>4</th>\n",
       "      <td>175.864</td>\n",
       "      <td>16.915</td>\n",
       "      <td>134.805</td>\n",
       "      <td>16.405</td>\n",
       "      <td>-999.00</td>\n",
       "      <td>-999.000</td>\n",
       "      <td>-999.000</td>\n",
       "      <td>3.891</td>\n",
       "      <td>16.405</td>\n",
       "      <td>57.983</td>\n",
       "      <td>...</td>\n",
       "      <td>-0.871</td>\n",
       "      <td>53.131</td>\n",
       "      <td>0.0</td>\n",
       "      <td>-999.000</td>\n",
       "      <td>-999.000</td>\n",
       "      <td>-999.000</td>\n",
       "      <td>-999.000</td>\n",
       "      <td>-999.00</td>\n",
       "      <td>-999.000</td>\n",
       "      <td>0.000</td>\n",
       "    </tr>\n",
       "    <tr>\n",
       "      <th>...</th>\n",
       "      <td>...</td>\n",
       "      <td>...</td>\n",
       "      <td>...</td>\n",
       "      <td>...</td>\n",
       "      <td>...</td>\n",
       "      <td>...</td>\n",
       "      <td>...</td>\n",
       "      <td>...</td>\n",
       "      <td>...</td>\n",
       "      <td>...</td>\n",
       "      <td>...</td>\n",
       "      <td>...</td>\n",
       "      <td>...</td>\n",
       "      <td>...</td>\n",
       "      <td>...</td>\n",
       "      <td>...</td>\n",
       "      <td>...</td>\n",
       "      <td>...</td>\n",
       "      <td>...</td>\n",
       "      <td>...</td>\n",
       "      <td>...</td>\n",
       "    </tr>\n",
       "    <tr>\n",
       "      <th>249995</th>\n",
       "      <td>-999.000</td>\n",
       "      <td>71.989</td>\n",
       "      <td>36.548</td>\n",
       "      <td>5.042</td>\n",
       "      <td>-999.00</td>\n",
       "      <td>-999.000</td>\n",
       "      <td>-999.000</td>\n",
       "      <td>1.392</td>\n",
       "      <td>5.042</td>\n",
       "      <td>55.892</td>\n",
       "      <td>...</td>\n",
       "      <td>2.859</td>\n",
       "      <td>144.665</td>\n",
       "      <td>0.0</td>\n",
       "      <td>-999.000</td>\n",
       "      <td>-999.000</td>\n",
       "      <td>-999.000</td>\n",
       "      <td>-999.000</td>\n",
       "      <td>-999.00</td>\n",
       "      <td>-999.000</td>\n",
       "      <td>0.000</td>\n",
       "    </tr>\n",
       "    <tr>\n",
       "      <th>249996</th>\n",
       "      <td>-999.000</td>\n",
       "      <td>58.179</td>\n",
       "      <td>68.083</td>\n",
       "      <td>22.439</td>\n",
       "      <td>-999.00</td>\n",
       "      <td>-999.000</td>\n",
       "      <td>-999.000</td>\n",
       "      <td>2.585</td>\n",
       "      <td>22.439</td>\n",
       "      <td>50.618</td>\n",
       "      <td>...</td>\n",
       "      <td>-0.867</td>\n",
       "      <td>80.408</td>\n",
       "      <td>0.0</td>\n",
       "      <td>-999.000</td>\n",
       "      <td>-999.000</td>\n",
       "      <td>-999.000</td>\n",
       "      <td>-999.000</td>\n",
       "      <td>-999.00</td>\n",
       "      <td>-999.000</td>\n",
       "      <td>0.000</td>\n",
       "    </tr>\n",
       "    <tr>\n",
       "      <th>249997</th>\n",
       "      <td>105.457</td>\n",
       "      <td>60.526</td>\n",
       "      <td>75.839</td>\n",
       "      <td>39.757</td>\n",
       "      <td>-999.00</td>\n",
       "      <td>-999.000</td>\n",
       "      <td>-999.000</td>\n",
       "      <td>2.390</td>\n",
       "      <td>22.183</td>\n",
       "      <td>120.462</td>\n",
       "      <td>...</td>\n",
       "      <td>-2.890</td>\n",
       "      <td>198.907</td>\n",
       "      <td>1.0</td>\n",
       "      <td>41.992</td>\n",
       "      <td>1.800</td>\n",
       "      <td>-0.166</td>\n",
       "      <td>-999.000</td>\n",
       "      <td>-999.00</td>\n",
       "      <td>-999.000</td>\n",
       "      <td>41.992</td>\n",
       "    </tr>\n",
       "    <tr>\n",
       "      <th>249998</th>\n",
       "      <td>94.951</td>\n",
       "      <td>19.362</td>\n",
       "      <td>68.812</td>\n",
       "      <td>13.504</td>\n",
       "      <td>-999.00</td>\n",
       "      <td>-999.000</td>\n",
       "      <td>-999.000</td>\n",
       "      <td>3.365</td>\n",
       "      <td>13.504</td>\n",
       "      <td>55.859</td>\n",
       "      <td>...</td>\n",
       "      <td>0.811</td>\n",
       "      <td>112.718</td>\n",
       "      <td>0.0</td>\n",
       "      <td>-999.000</td>\n",
       "      <td>-999.000</td>\n",
       "      <td>-999.000</td>\n",
       "      <td>-999.000</td>\n",
       "      <td>-999.00</td>\n",
       "      <td>-999.000</td>\n",
       "      <td>0.000</td>\n",
       "    </tr>\n",
       "    <tr>\n",
       "      <th>249999</th>\n",
       "      <td>-999.000</td>\n",
       "      <td>72.756</td>\n",
       "      <td>70.831</td>\n",
       "      <td>7.479</td>\n",
       "      <td>-999.00</td>\n",
       "      <td>-999.000</td>\n",
       "      <td>-999.000</td>\n",
       "      <td>2.025</td>\n",
       "      <td>7.479</td>\n",
       "      <td>83.240</td>\n",
       "      <td>...</td>\n",
       "      <td>-1.596</td>\n",
       "      <td>99.405</td>\n",
       "      <td>0.0</td>\n",
       "      <td>-999.000</td>\n",
       "      <td>-999.000</td>\n",
       "      <td>-999.000</td>\n",
       "      <td>-999.000</td>\n",
       "      <td>-999.00</td>\n",
       "      <td>-999.000</td>\n",
       "      <td>0.000</td>\n",
       "    </tr>\n",
       "  </tbody>\n",
       "</table>\n",
       "<p>250000 rows × 30 columns</p>\n",
       "</div>"
      ],
      "text/plain": [
       "             0        1        2       3       4        5        6      7   \\\n",
       "0       138.470   51.655   97.827  27.980    0.91  124.711    2.666  3.064   \n",
       "1       160.937   68.768  103.235  48.146 -999.00 -999.000 -999.000  3.473   \n",
       "2      -999.000  162.172  125.953  35.635 -999.00 -999.000 -999.000  3.148   \n",
       "3       143.905   81.417   80.943   0.414 -999.00 -999.000 -999.000  3.310   \n",
       "4       175.864   16.915  134.805  16.405 -999.00 -999.000 -999.000  3.891   \n",
       "...         ...      ...      ...     ...     ...      ...      ...    ...   \n",
       "249995 -999.000   71.989   36.548   5.042 -999.00 -999.000 -999.000  1.392   \n",
       "249996 -999.000   58.179   68.083  22.439 -999.00 -999.000 -999.000  2.585   \n",
       "249997  105.457   60.526   75.839  39.757 -999.00 -999.000 -999.000  2.390   \n",
       "249998   94.951   19.362   68.812  13.504 -999.00 -999.000 -999.000  3.365   \n",
       "249999 -999.000   72.756   70.831   7.479 -999.00 -999.000 -999.000  2.025   \n",
       "\n",
       "            8        9   ...     20       21   22       23       24       25  \\\n",
       "0       41.928  197.760  ... -0.277  258.733  2.0   67.435    2.150    0.444   \n",
       "1        2.078  125.157  ... -1.916  164.546  1.0   46.226    0.725    1.158   \n",
       "2        9.336  197.814  ... -2.186  260.414  1.0   44.251    2.053   -2.028   \n",
       "3        0.414   75.968  ...  0.060   86.062  0.0 -999.000 -999.000 -999.000   \n",
       "4       16.405   57.983  ... -0.871   53.131  0.0 -999.000 -999.000 -999.000   \n",
       "...        ...      ...  ...    ...      ...  ...      ...      ...      ...   \n",
       "249995   5.042   55.892  ...  2.859  144.665  0.0 -999.000 -999.000 -999.000   \n",
       "249996  22.439   50.618  ... -0.867   80.408  0.0 -999.000 -999.000 -999.000   \n",
       "249997  22.183  120.462  ... -2.890  198.907  1.0   41.992    1.800   -0.166   \n",
       "249998  13.504   55.859  ...  0.811  112.718  0.0 -999.000 -999.000 -999.000   \n",
       "249999   7.479   83.240  ... -1.596   99.405  0.0 -999.000 -999.000 -999.000   \n",
       "\n",
       "             26      27       28       29  \n",
       "0        46.062    1.24   -2.475  113.497  \n",
       "1      -999.000 -999.00 -999.000   46.226  \n",
       "2      -999.000 -999.00 -999.000   44.251  \n",
       "3      -999.000 -999.00 -999.000    0.000  \n",
       "4      -999.000 -999.00 -999.000    0.000  \n",
       "...         ...     ...      ...      ...  \n",
       "249995 -999.000 -999.00 -999.000    0.000  \n",
       "249996 -999.000 -999.00 -999.000    0.000  \n",
       "249997 -999.000 -999.00 -999.000   41.992  \n",
       "249998 -999.000 -999.00 -999.000    0.000  \n",
       "249999 -999.000 -999.00 -999.000    0.000  \n",
       "\n",
       "[250000 rows x 30 columns]"
      ]
     },
     "execution_count": 5,
     "metadata": {},
     "output_type": "execute_result"
    }
   ],
   "source": [
    "df = pd.DataFrame(tX_train)\n",
    "df"
   ]
  },
  {
   "cell_type": "code",
   "execution_count": 6,
   "metadata": {},
   "outputs": [
    {
     "name": "stdout",
     "output_type": "stream",
     "text": [
      "Feature 0 has 38114 NaNs (15.246%)\n",
      "Feature 4 has 177457 NaNs (70.983%)\n",
      "Feature 5 has 177457 NaNs (70.983%)\n",
      "Feature 6 has 177457 NaNs (70.983%)\n",
      "Feature 12 has 177457 NaNs (70.983%)\n",
      "Feature 23 has 99913 NaNs (39.965%)\n",
      "Feature 24 has 99913 NaNs (39.965%)\n",
      "Feature 25 has 99913 NaNs (39.965%)\n",
      "Feature 26 has 177457 NaNs (70.983%)\n",
      "Feature 27 has 177457 NaNs (70.983%)\n",
      "Feature 28 has 177457 NaNs (70.983%)\n",
      "\n",
      "TOTAL 11 columns have NaNs\n"
     ]
    }
   ],
   "source": [
    "nan_cols = 0\n",
    "df_nan = df.replace(-999., np.nan)\n",
    "for col in df_nan.columns:\n",
    "    if df_nan[col].isnull().values.any():\n",
    "        nan_cols+=1\n",
    "        nan_amount = df_nan[col].isnull().sum()\n",
    "        print(\"Feature {} has {} NaNs ({:.3f}%)\".format(col, nan_amount, 100.*nan_amount/N))\n",
    "print(\"\\nTOTAL {} columns have NaNs\".format(nan_cols))"
   ]
  },
  {
   "cell_type": "code",
   "execution_count": 7,
   "metadata": {},
   "outputs": [],
   "source": [
    "res = df_nan.describe()"
   ]
  },
  {
   "cell_type": "code",
   "execution_count": 8,
   "metadata": {},
   "outputs": [
    {
     "name": "stdout",
     "output_type": "stream",
     "text": [
      "Feature 0.\tContinous\tmin:   9.044\tmax: 1192.026\n",
      "Feature 1.\tContinous\tmin:   0.000\tmax:  690.075\n",
      "Feature 2.\tContinous\tmin:   6.329\tmax: 1349.351\n",
      "Feature 3.\tContinous\tmin:   0.000\tmax: 2834.999\n",
      "Feature 4.\tContinous\tmin:   0.000\tmax:    8.503\n",
      "Feature 5.\tContinous\tmin:  13.602\tmax: 4974.979\n",
      "Feature 6.\tContinous\tmin: -18.066\tmax:   16.690\n",
      "Feature 7.\tContinous\tmin:   0.208\tmax:    5.684\n",
      "Feature 8.\tContinous\tmin:   0.000\tmax: 2834.999\n",
      "Feature 9.\tContinous\tmin:  46.104\tmax: 1852.462\n",
      "Feature 10.\tContinous\tmin:   0.047\tmax:   19.773\n",
      "Feature 11.\tContinous\tmin:  -1.414\tmax:    1.414\n",
      "Feature 12.\tContinous\tmin:   0.000\tmax:    1.000\n",
      "Feature 13.\tContinous\tmin:  20.000\tmax:  764.408\n",
      "Feature 14.\tContinous\tmin:  -2.499\tmax:    2.497\n",
      "Feature 15.\tContinous\tmin:  -3.142\tmax:    3.142\n",
      "Feature 16.\tContinous\tmin:  26.000\tmax:  560.271\n",
      "Feature 17.\tContinous\tmin:  -2.505\tmax:    2.503\n",
      "Feature 18.\tContinous\tmin:  -3.142\tmax:    3.142\n",
      "Feature 19.\tContinous\tmin:   0.109\tmax: 2842.617\n",
      "Feature 20.\tContinous\tmin:  -3.142\tmax:    3.142\n",
      "Feature 21.\tContinous\tmin:  13.678\tmax: 2003.976\n",
      "Feature 22.\tDiscrete in (0.0, 1.0, 2.0, 3.0)\n",
      "Feature 23.\tContinous\tmin:  30.000\tmax: 1120.573\n",
      "Feature 24.\tContinous\tmin:  -4.499\tmax:    4.499\n",
      "Feature 25.\tContinous\tmin:  -3.142\tmax:    3.141\n",
      "Feature 26.\tContinous\tmin:  30.000\tmax:  721.456\n",
      "Feature 27.\tContinous\tmin:  -4.500\tmax:    4.500\n",
      "Feature 28.\tContinous\tmin:  -3.142\tmax:    3.142\n",
      "Feature 29.\tContinous\tmin:   0.000\tmax: 1633.433\n"
     ]
    }
   ],
   "source": [
    "### Analysing features\n",
    "for feature in range(D):\n",
    "    if feature == 22:\n",
    "        print(\"Feature {}.\\tDiscrete in (0.0, 1.0, 2.0, 3.0)\".format(feature))\n",
    "    else:\n",
    "        print(\"Feature {}.\\tContinous\\tmin: {:>7.3f}\\tmax: {:>8.3f}\".format(feature, res.loc['min'][feature], res.loc['max'][feature]))"
   ]
  },
  {
   "cell_type": "markdown",
   "metadata": {},
   "source": [
    "## We can try to remove columns with NaNs"
   ]
  },
  {
   "cell_type": "code",
   "execution_count": 9,
   "metadata": {},
   "outputs": [
    {
     "name": "stdout",
     "output_type": "stream",
     "text": [
      "(250000, 19)\n"
     ]
    }
   ],
   "source": [
    "df_no_nans = df_nan.dropna(axis=1)\n",
    "print(df_no_nans.shape)"
   ]
  },
  {
   "cell_type": "code",
   "execution_count": 10,
   "metadata": {},
   "outputs": [],
   "source": [
    "df_no_nans_norm = (df_no_nans - df_no_nans.mean(axis=0)) /df_no_nans.std(axis=0)"
   ]
  },
  {
   "cell_type": "markdown",
   "metadata": {},
   "source": [
    "## Replace NaNs with 0"
   ]
  },
  {
   "cell_type": "code",
   "execution_count": 11,
   "metadata": {},
   "outputs": [
    {
     "data": {
      "text/plain": [
       "(250000, 30)"
      ]
     },
     "execution_count": 11,
     "metadata": {},
     "output_type": "execute_result"
    }
   ],
   "source": [
    "df_zeros = df.replace(-999., 0.)\n",
    "df_zeros.shape"
   ]
  },
  {
   "cell_type": "code",
   "execution_count": 12,
   "metadata": {},
   "outputs": [],
   "source": [
    "df_zeros_norm = (df_zeros - df_zeros.mean(axis=0))/df_zeros.std(axis=0)"
   ]
  },
  {
   "cell_type": "markdown",
   "metadata": {},
   "source": [
    "## Create 4 dfs according to feature 22"
   ]
  },
  {
   "cell_type": "code",
   "execution_count": 13,
   "metadata": {},
   "outputs": [
    {
     "name": "stdout",
     "output_type": "stream",
     "text": [
      "(99913, 18)\n",
      "(77544, 18)\n",
      "(50379, 18)\n",
      "(22164, 18)\n",
      "250000\n"
     ]
    }
   ],
   "source": [
    "df0 = df_no_nans[df_no_nans[22] == 0].drop(columns=22)\n",
    "df1 = df_no_nans[df_no_nans[22] == 1].drop(columns=22)\n",
    "df2 = df_no_nans[df_no_nans[22] == 2].drop(columns=22)\n",
    "df3 = df_no_nans[df_no_nans[22] == 3].drop(columns=22)\n",
    "print(df0.shape)\n",
    "print(df1.shape)\n",
    "print(df2.shape)\n",
    "print(df3.shape)\n",
    "print((len(df0)+len(df1)+len(df2)+len(df3)))"
   ]
  },
  {
   "cell_type": "code",
   "execution_count": 14,
   "metadata": {},
   "outputs": [],
   "source": [
    "df0_norm = (df0-df0.mean())/df0.std()\n",
    "df1_norm = (df1-df1.mean())/df1.std()\n",
    "df2_norm = (df2-df2.mean())/df2.std()\n",
    "df3_norm = (df3-df3.mean())/df3.std()"
   ]
  },
  {
   "cell_type": "code",
   "execution_count": 20,
   "metadata": {},
   "outputs": [
    {
     "data": {
      "text/plain": [
       "(19, 1)"
      ]
     },
     "execution_count": 20,
     "metadata": {},
     "output_type": "execute_result"
    }
   ],
   "source": [
    "initial_w = np.random.randn(19,1)"
   ]
  },
  {
   "cell_type": "code",
   "execution_count": 201,
   "metadata": {},
   "outputs": [],
   "source": [
    "from cross_validation import cross_validation_SGD, cross_validation_ridge"
   ]
  },
  {
   "cell_type": "markdown",
   "metadata": {},
   "source": [
    "## LEAST SQUARES"
   ]
  },
  {
   "cell_type": "markdown",
   "metadata": {},
   "source": [
    "### df_no_nans_norm"
   ]
  },
  {
   "cell_type": "code",
   "execution_count": 160,
   "metadata": {},
   "outputs": [
    {
     "name": "stdout",
     "output_type": "stream",
     "text": [
      "[2.4609371547135686, 2.5339676745700856, 2.5064628238373725, 2.4996730515494066]\n",
      "[1.4111640830995442, 1.4200321303732033, 1.397515547250076, 1.3982624750640253]\n",
      "[0.8009409113790322, 0.7568903869750392, 0.7525043254231893, 0.7528898711740395]\n",
      "[0.5231622609753844, 0.493646789485927, 0.49811637556044597, 0.49594254655212894]\n",
      "[0.43128625063675674, 0.4280736437860574, 0.4293470100782446, 0.43021468590893697]\n",
      "[0.4142836208885106, 0.41465815844322435, 0.4116392485276812, 0.41972265527630587]\n",
      "[0.41588765764621366, 0.41197171560906864, 0.40738595177095405, 0.4260928230101191]\n",
      "[0.4237668863659394, 0.41372338188399826, 0.4085687989740195, 0.44285874725055885]\n",
      "[0.43576269800122464, 0.41921113007324134, 0.41459885172646316, 0.469082012459883]\n",
      "[0.4529161299478188, 0.43178369188463184, 0.42484672260026224, 0.5359029450414265]\n"
     ]
    }
   ],
   "source": [
    "tr = []\n",
    "te = []\n",
    "gammas = np.logspace(-4, -2, 10)\n",
    "for gamma in gammas:\n",
    "    w_best, training_errors, validation_errors = \\\n",
    "    cross_validation_SGD(y=y_train.reshape((-1,1)), tx=df_no_nans_norm.values, K=4,\n",
    "                         initial_w=initial_w, max_iters=10000, gamma=gamma, batch_size=1,\n",
    "                         loss_kind=\"LEAST_SQUARE\", seed=1)\n",
    "    print(training_errors)\n",
    "    tr.append(np.mean(training_errors))\n",
    "    te.append(np.mean(validation_errors))"
   ]
  },
  {
   "cell_type": "code",
   "execution_count": 161,
   "metadata": {},
   "outputs": [
    {
     "data": {
      "text/plain": [
       "[]"
      ]
     },
     "execution_count": 161,
     "metadata": {},
     "output_type": "execute_result"
    },
    {
     "data": {
      "image/png": "[encoded data removed]",
      "text/plain": [
       "<Figure size 432x288 with 1 Axes>"
      ]
     },
     "metadata": {
      "needs_background": "light"
     },
     "output_type": "display_data"
    }
   ],
   "source": [
    "plt.plot(gammas, te, label=\"test loss\")\n",
    "plt.plot(gammas, tr, 'r', label=\"train loss\")\n",
    "plt.xscale('log')\n",
    "plt.yscale('log')\n",
    "plt.title(\"4-fold cross validation for least-squares for different values of gamma (1e4 iterations, batch_size 1)\")\n",
    "plt.xlabel(\"gamma\")\n",
    "plt.ylabel(\"Loss\")\n",
    "plt.legend()\n",
    "plt.plot()"
   ]
  },
  {
   "cell_type": "code",
   "execution_count": 162,
   "metadata": {},
   "outputs": [
    {
     "data": {
      "text/plain": [
       "0.001291549665014884"
      ]
     },
     "execution_count": 162,
     "metadata": {},
     "output_type": "execute_result"
    }
   ],
   "source": [
    "gamma_star = gammas[np.argmin(te)]\n",
    "gamma_star"
   ]
  },
  {
   "cell_type": "code",
   "execution_count": 195,
   "metadata": {},
   "outputs": [],
   "source": [
    "initial_w = np.random.rand(19,1)\n",
    "w_best, training_errors, validation_errors = \\\n",
    "    cross_validation_SGD(y=y_train.reshape((-1,1)), tx=df_no_nans_norm.values, K=4,\n",
    "                         initial_w=initial_w, max_iters=1000000, gamma=1e-3, batch_size=1,\n",
    "                         loss_kind=\"LEAST_SQUARE\", seed=1)"
   ]
  },
  {
   "cell_type": "code",
   "execution_count": 196,
   "metadata": {},
   "outputs": [
    {
     "data": {
      "image/png": "[encoded data removed]",
      "text/plain": [
       "<Figure size 432x288 with 1 Axes>"
      ]
     },
     "metadata": {
      "needs_background": "light"
     },
     "output_type": "display_data"
    }
   ],
   "source": [
    "plt.boxplot(validation_errors)\n",
    "plt.show()"
   ]
  },
  {
   "cell_type": "code",
   "execution_count": 208,
   "metadata": {},
   "outputs": [],
   "source": [
    "initial_w = np.random.rand(19,1)\n",
    "te = []\n",
    "tr = []\n",
    "\n",
    "lambdas = np.logspace(-6, -3, 8)\n",
    "for lambda_ in lambdas:\n",
    "    w_best, training_errors, validation_errors = \\\n",
    "        cross_validation_ridge(y=y_train.reshape((-1,1)), tx=df_no_nans_norm.values, K=4, seed=1, lambda_=lambda_)\n",
    "    te.append(np.mean(validation_errors))\n",
    "    tr.append(np.mean(training_errors))"
   ]
  },
  {
   "cell_type": "code",
   "execution_count": 209,
   "metadata": {},
   "outputs": [
    {
     "data": {
      "image/png": "[encoded data removed]",
      "text/plain": [
       "<Figure size 432x288 with 1 Axes>"
      ]
     },
     "metadata": {
      "needs_background": "light"
     },
     "output_type": "display_data"
    }
   ],
   "source": [
    "plt.plot(lambdas, te)\n",
    "plt.plot(lambdas, tr, 'r')\n",
    "plt.xscale('log')"
   ]
  },
  {
   "cell_type": "code",
   "execution_count": 225,
   "metadata": {},
   "outputs": [],
   "source": [
    "def build_polyy(x, degree):\n",
    "    n, d = x.shape\n",
    "    accu_expanded = np.c_[np.ones((n,1)),x]\n",
    "\n",
    "    for deg in range(degree):\n",
    "        accu_expanded = np.c_[accu_expanded, x**(deg+1)]\n",
    "        \n",
    "    feature_pairs_dict = {}\n",
    "    key = 0\n",
    "    for i in range(d):\n",
    "        for j in range(i+1,d):\n",
    "            feature_pairs_dict[key] = [i,j]\n",
    "            key += 1\n",
    "    \n",
    "    pair_columns = np.zeros((n, len(feature_pairs_dict)) )\n",
    "\n",
    "    for i, pair in feature_pairs_dict.items():\n",
    "        pair_columns[:, i] = x[:, pair[0]] * x[:, pair[1]]\n",
    "\n",
    "    accu_expanded =  np.c_[accu_expanded,pair_columns]\n",
    "\n",
    "    return accu_expanded"
   ]
  },
  {
   "cell_type": "code",
   "execution_count": 226,
   "metadata": {},
   "outputs": [],
   "source": [
    "initial_w = np.random.rand(19,1)\n",
    "te = []\n",
    "tr = []\n",
    "degrees = range(8)\n",
    "tx = df_no_nans_norm.values\n",
    "for deg in degrees:\n",
    "    tx_expanded = build_polyy(tx, deg)\n",
    "    w_best, training_errors, validation_errors = \\\n",
    "        cross_validation_ridge(y=y_train.reshape((-1,1)), tx=tx_expanded, K=4, seed=1, lambda_=1e-4)\n",
    "    te.append(np.mean(validation_errors))\n",
    "    tr.append(np.mean(training_errors))"
   ]
  },
  {
   "cell_type": "code",
   "execution_count": 229,
   "metadata": {},
   "outputs": [
    {
     "data": {
      "image/png": "[encoded data removed]",
      "text/plain": [
       "<Figure size 432x288 with 1 Axes>"
      ]
     },
     "metadata": {
      "needs_background": "light"
     },
     "output_type": "display_data"
    }
   ],
   "source": [
    "plt.plot(degrees[:-4], te[:-4])\n",
    "plt.plot(degrees[:-4], tr[:-4], 'r')\n",
    "plt.yscale('log')"
   ]
  }
 ],
 "metadata": {
  "kernelspec": {
   "display_name": "Python [conda env:ada] *",
   "language": "python",
   "name": "conda-env-ada-py"
  },
  "language_info": {
   "codemirror_mode": {
    "name": "ipython",
    "version": 3
   },
   "file_extension": ".py",
   "mimetype": "text/x-python",
   "name": "python",
   "nbconvert_exporter": "python",
   "pygments_lexer": "ipython3",
   "version": "3.8.5"
  }
 },
 "nbformat": 4,
 "nbformat_minor": 4
}
