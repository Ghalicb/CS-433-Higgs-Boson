{
 "cells": [
  {
   "cell_type": "code",
   "execution_count": 1,
   "metadata": {
    "collapsed": true,
    "jupyter": {
     "outputs_hidden": true
    }
   },
   "outputs": [],
   "source": [
    "# Useful starting lines\n",
    "%matplotlib inline\n",
    "import numpy as np\n",
    "import matplotlib.pyplot as plt\n",
    "%load_ext autoreload\n",
    "%autoreload 2"
   ]
  },
  {
   "cell_type": "code",
   "execution_count": 2,
   "metadata": {},
   "outputs": [],
   "source": [
    "from implementations import *\n",
    "from cross_validation import *\n",
    "from losses import *\n",
    "from helpers import *"
   ]
  },
  {
   "cell_type": "code",
   "execution_count": 3,
   "metadata": {},
   "outputs": [],
   "source": [
    "constants = {   \"max_iters\" : 1000, \n",
    "                \"lambda\" : 1, \n",
    "                \"gamma\" : 1, \n",
    "                \"degree_expansion\" : 3,\n",
    "                \"K\" : 4,\n",
    "                \"batch_size\" : 1,\n",
    "                \"dataset\" : \"REPLACE_INVALID\",\n",
    "                \"algorithm\" : \"REGULARIZED_LOGISTIC_REGRESSION\" } \n",
    "\n",
    "np.random.seed(1)"
   ]
  },
  {
   "cell_type": "markdown",
   "metadata": {},
   "source": [
    "## Load the data"
   ]
  },
  {
   "cell_type": "code",
   "execution_count": 4,
   "metadata": {},
   "outputs": [],
   "source": [
    "DATA_TRAIN_PATH = '../data/train.csv'\n",
    "y_train, tX_train, ids_train = load_csv_data(DATA_TRAIN_PATH, sub_sample=False)"
   ]
  },
  {
   "cell_type": "markdown",
   "metadata": {},
   "source": [
    "## Data preprocessing"
   ]
  },
  {
   "cell_type": "code",
   "execution_count": 5,
   "metadata": {},
   "outputs": [],
   "source": [
    "### Relabel the output y from {-1,1} to {0,1}\n",
    "y_train[y_train == -1] = 0\n",
    "\n",
    "### Dealing with invalid data & Normalize data\n",
    "# a. Dataset where columns containing invalid data are dropped\n",
    "if (constants[\"dataset\"] == \"DROP_INVALID\"):\n",
    "    tX_train = tX_train[:, ~np.any(tX_train == -999., axis=0)]\n",
    "\n",
    "    tX_train_means = np.mean(tX_train, axis=0)\n",
    "    tX_train_stds = np.std(tX_train, axis=0)\n",
    "\n",
    "    tX_train = (tX_train - tX_train_means)/tX_train_stds\n",
    "\n",
    "# b. Dataset where columns containing invalid data are replaced by the mean of the corresponding feature\n",
    "if (constants[\"dataset\"] == \"REPLACE_INVALID\"):\n",
    "    tX_train[tX_train == -999.] = np.nan\n",
    "\n",
    "    tX_train_means = np.nanmean(tX_train, axis=0)\n",
    "    tX_train_stds = np.nanstd(tX_train, axis=0)\n",
    "\n",
    "    tX_train = (tX_train - tX_train_means)/tX_train_stds\n",
    "    tX_train[np.isnan(tX_train)] = 0\n",
    "\n",
    "### Feature expansion\n",
    "tX_train = build_poly(tX_train, constants[\"degree_expansion\"])"
   ]
  },
  {
   "cell_type": "code",
   "execution_count": 6,
   "metadata": {
    "lines_to_next_cell": 0
   },
   "outputs": [],
   "source": [
    "# ## Model training"
   ]
  },
  {
   "cell_type": "code",
   "execution_count": 12,
   "metadata": {
    "lines_to_end_of_cell_marker": 0,
    "lines_to_next_cell": 0
   },
   "outputs": [],
   "source": [
    "def lambda_gamma_sgd_cv(y, tx, algorithm, lambdas, gammas, K, max_iters, batch_size):\n",
    "  \"\"\"Do K-fold cross-validation for each value in lambdas and gammas, at every iteration.\n",
    "  \n",
    "  Inputs:\n",
    "  y : np array\n",
    "    (N, 1) or (N,)\n",
    "  tx : np array\n",
    "    (N, D)\n",
    "  algorithm : string\n",
    "    The algorithm to use for training\n",
    "    Can take any value in { \"LEAST_SQUARE\" , \"LOGISTIC_REGRESSION\", \"REGULARIZED_LOGISTIC_REGRESSION\"}\n",
    "  lambdas : iterable\n",
    "    Regularisation parameters for cost function\n",
    "  gamma : iterable\n",
    "    Learning rates for SGD\n",
    "  K : int\n",
    "    Number of folds\n",
    "  max_iters : int\n",
    "    Maxium number of iterations for SGD\n",
    "  batch_size : int\n",
    "    Size of mini-batches\n",
    "  \n",
    "  Outputs:\n",
    "  w_best : np array\n",
    "    (D, len(lambdas), len(lambdas))\n",
    "    Trained weights that produced the smallest validation error\n",
    "    over all folds, for each lambda and gamma\n",
    "  training_errors : np array\n",
    "    (K, len(lambdas), len(lambdas))\n",
    "    Training loss for each fold, for each lambda and gamma\n",
    "  validation_errors : np array\n",
    "    (K, len(lambdas), len(lambdas))\n",
    "    Validation loss for each fold, for each lambda and gamma\n",
    "  \"\"\"\n",
    "  # loss = loss_kinds[algorithm][0]\n",
    "  y, tx = prepare_dimensions(y, tx)\n",
    "\n",
    "  N = len(y)\n",
    "  len_lambdas = len(lambdas)\n",
    "  len_gammas = len(gammas)\n",
    "\n",
    "  initial_w = np.ones((tx.shape[1], 1))\n",
    "  w_best = np.zeros((tx.shape[1], len_lambdas, len_gammas))\n",
    "\n",
    "  training_errors = np.zeros((K, len_lambdas, len_gammas))\n",
    "  validation_errors = np.zeros((K, len_lambdas, len_gammas))\n",
    "  min_error = np.inf * np.ones((len_lambdas, len_gammas))\n",
    "\n",
    "  k_indices = build_k_indices(y, K)\n",
    "\n",
    "  for k in range(K):\n",
    "    # Take all but the k-th row of tx and y\n",
    "    tx_train, y_train = map(lambda a: a[np.delete(k_indices, k).flatten()], (tx, y))\n",
    "    # Take the k-th row of tx and y\n",
    "    tx_test, y_test = map(lambda a: a[k_indices[k]], (tx, y))\n",
    "\n",
    "    for i, lambda_ in enumerate(lambdas):\n",
    "      for j, gamma in enumerate(gammas):\n",
    "        # Train\n",
    "        w, loss_tr = SGD(y_train, tx_train, initial_w, max_iters, gamma, algorithm, batch_size, lambda_)\n",
    "        # Test\n",
    "        # loss_te = loss(y_test, tx_test, w, lambda_)\n",
    "        loss_te = compute_mse_loss(y_test, tx_test, w)\n",
    "        \n",
    "        training_errors[k, i, j] = loss_tr\n",
    "        validation_errors[k, i, j] = loss_te\n",
    "\n",
    "        # Keep the weights that give the lowest loss_te\n",
    "        if loss_te < min_error[i, j]:\n",
    "          min_error[i, j] = loss_te\n",
    "          w_best[:, i, j] = w.ravel()\n",
    "\n",
    "  return w_best, training_errors, validation_errors\n",
    "# -\n",
    "def lambda_gamma_ridge_cv(y, tx, lambdas, K, max_iters, batch_size, seed):\n",
    "  \"\"\"Do K-fold cross-validation with ridge regression for each value in lambdas, at every iteration.\n",
    "  \n",
    "  Inputs:\n",
    "  y : np array\n",
    "    (N, 1) or (N,)\n",
    "  tx : np array\n",
    "    (N, D)\n",
    "  lambdas : iterable\n",
    "    Regularisation parameters for cost function\n",
    "  K : int\n",
    "    Number of folds\n",
    "  max_iters : int\n",
    "    Maxium number of iterations for SGD\n",
    "  batch_size : int\n",
    "    Size of mini-batches\n",
    "  \n",
    "  Outputs:\n",
    "  w_best : np array\n",
    "    (D, len(lambdas))\n",
    "    Trained weights that produced the smallest validation error\n",
    "    over all folds, for each lambda and gamma\n",
    "  training_errors : np array\n",
    "    (K, len(lambdas))\n",
    "    Training loss for each fold, for each lambda\n",
    "  validation_errors : np array\n",
    "    (K, len(lambdas))\n",
    "    Validation loss for each fold, for each lambda\n",
    "  \"\"\"\n",
    "  y, tx = prepare_dimensions(y, tx)\n",
    "\n",
    "  N = len(y)\n",
    "  len_lambdas = len(lambdas)\n",
    "\n",
    "  initial_w = np.ones((tx.shape[1], 1))\n",
    "  w_best = np.zeros((tx.shape[1], len_lambdas))\n",
    "\n",
    "  training_errors = np.zeros((K, len_lambdas))\n",
    "  validation_errors = np.zeros((K, len_lambdas))\n",
    "  min_error = np.inf * np.ones((len_lambdas))\n",
    "\n",
    "  k_indices = build_k_indices(y, K)\n",
    "\n",
    "  for k in range(K):\n",
    "    # Take all but the k-th row of tx and y\n",
    "    tx_train, y_train = map(lambda a: a[np.delete(k_indices, k).flatten()], (tx, y))\n",
    "    # Take the k-th row of tx and y\n",
    "    tx_test, y_test = map(lambda a: a[k_indices[k]], (tx, y))\n",
    "\n",
    "    for i, lambda_ in enumerate(lambdas):\n",
    "      # Train\n",
    "      w, loss_tr = ridge_regression(y, tx, lambda_)\n",
    "      # Test\n",
    "      loss_te = compute_mse_loss(y_test, tx_test, w)\n",
    "      \n",
    "      training_errors[k, i] = loss_tr\n",
    "      validation_errors[k, i] = loss_te\n",
    "\n",
    "      # Keep the weights that give the lowest loss_te\n",
    "      if loss_te < min_error[i]:\n",
    "        min_error[i] = loss_te\n",
    "        w_best[:, i] = w.ravel()\n",
    "\n",
    "  return w_best, training_errors, validation_errors"
   ]
  },
  {
   "cell_type": "code",
   "execution_count": 14,
   "metadata": {},
   "outputs": [],
   "source": [
    "lambdas = np.logspace(-10, -1, 10)\n",
    "gammas = np.logspace(-5, 1, 5)\n",
    "\n",
    "# w_best, training_errors, validation_errors = lambda_gamma_ridge_cv(y_train, tX, lambdas, K, max_iters, batch_size)\n",
    "w_best, training_errors, validation_errors = lambda_gamma_sgd_cv(y_train, tX_train, \"REGULARIZED_LOGISTIC_REGRESSION\", lambdas, gammas, constants[\"K\"], constants[\"max_iters\"], constants[\"batch_size\"])"
   ]
  },
  {
   "cell_type": "code",
   "execution_count": 15,
   "metadata": {},
   "outputs": [],
   "source": [
    "# Run a convergence test\n",
    "algo_dict = {\n",
    "  \"REGULARIZED_LOGISTIC_REGRESSION\" : \"reg_logist\",\n",
    "  \"LEAST_SQUARE\" : \"least_sq\",\n",
    "  \"LOGISTIC_REGRESSION\" : \"logist\",\n",
    "}\n",
    "\n",
    "def convergence_test(algorithm, y, tx, K, max_iters, lambda_, gamma):\n",
    "  k_indices = build_k_indices(y, K)\n",
    "  k = 0\n",
    "  # Take all but the k-th row of tx and y\n",
    "  tx_train, y_train_ = map(lambda a: a[np.delete(k_indices, k).flatten()], (tX, y))\n",
    "  # Take the k-th row of tx and y\n",
    "  tx_test, y_test = map(lambda a: a[k_indices[k]], (tX, y))\n",
    "\n",
    "  w, loss, training_errors, validation_errors = SGD(\n",
    "    y_train_,\n",
    "    tx_train,\n",
    "    initial_w = np.ones(tx.shape[1]),\n",
    "    max_iters = max_iters,\n",
    "    gamma = gamma,\n",
    "    loss_kind = algorithm,\n",
    "    batch_size = constants[\"batch_size\"],\n",
    "    lambda_ = lambda_,\n",
    "    verbose = True,\n",
    "    validation_y = y_test,\n",
    "    validation_tx = tx_test)\n",
    "\n",
    "  training_errors = list(map(lambda x: x/len(y_train_), training_errors))\n",
    "  validation_errors = list(map(lambda x: x/len(y_test), validation_errors))\n",
    "\n",
    "  # Save to file\n",
    "  a = np.column_stack((np.arange(1,max_iters), training_errors[1:], validation_errors[1:])) # When epoch is 0 LaTeX complains\n",
    "  np.savetxt('../../latex-example-paper/figures/conv_{}_dataset{}.txt'.format(algo_dict[algorithm], constants[\"dataset\"]),\n",
    "             a,\n",
    "             header = 'epoch tr_loss val_loss\\n# gamma = {}, lambda = {}'.format(gamma, lambda_),\n",
    "             comments = '')\n",
    "\n",
    "  return w, loss, training_errors, validation_errors\n"
   ]
  },
  {
   "cell_type": "markdown",
   "metadata": {},
   "source": [
    "## Generate predictions and save ouput in csv format for submission:"
   ]
  },
  {
   "cell_type": "code",
   "execution_count": null,
   "metadata": {},
   "outputs": [],
   "source": [
    "DATA_TEST_PATH = '../data/test.csv'\n",
    "# y_test, tX_test, ids_test = load_csv_data(DATA_TEST_PATH, sub_sample=False)"
   ]
  },
  {
   "cell_type": "markdown",
   "metadata": {},
   "source": [
    "Relabel the output y from {-1,1} to {0,1}"
   ]
  },
  {
   "cell_type": "code",
   "execution_count": null,
   "metadata": {},
   "outputs": [],
   "source": [
    "y_test[y_test == -1] = 0"
   ]
  },
  {
   "cell_type": "code",
   "execution_count": null,
   "metadata": {},
   "outputs": [],
   "source": [
    "OUTPUT_PATH = '' # TODO: fill in desired name of output file for submission\n",
    "# y_pred = predict_labels(weights, tX_test)\n",
    "# create_csv_submission(ids_test, y_pred, OUTPUT_PATH)"
   ]
  },
  {
   "cell_type": "code",
   "execution_count": null,
   "metadata": {
    "jupyter": {
     "outputs_hidden": true
    }
   },
   "outputs": [],
   "source": []
  }
 ],
 "metadata": {
  "anaconda-cloud": {},
  "jupytext": {
   "formats": "ipynb,py"
  },
  "kernelspec": {
   "display_name": "Python 3",
   "language": "python",
   "name": "python3"
  },
  "language_info": {
   "codemirror_mode": {
    "name": "ipython",
    "version": 3
   },
   "file_extension": ".py",
   "mimetype": "text/x-python",
   "name": "python",
   "nbconvert_exporter": "python",
   "pygments_lexer": "ipython3",
   "version": "3.8.3-final"
  }
 },
 "nbformat": 4,
 "nbformat_minor": 4
}
