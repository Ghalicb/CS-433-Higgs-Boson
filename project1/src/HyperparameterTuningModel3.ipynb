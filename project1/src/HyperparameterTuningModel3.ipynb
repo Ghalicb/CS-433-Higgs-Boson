{
 "cells": [
  {
   "cell_type": "markdown",
   "metadata": {},
   "source": [
    "# Hyperparameter Tuning for Model3"
   ]
  },
  {
   "cell_type": "code",
   "execution_count": 1,
   "metadata": {},
   "outputs": [],
   "source": [
    "# Useful starting lines\n",
    "%matplotlib inline\n",
    "import numpy as np\n",
    "import matplotlib.pyplot as plt\n",
    "%load_ext autoreload\n",
    "%autoreload 2"
   ]
  },
  {
   "cell_type": "code",
   "execution_count": 7,
   "metadata": {},
   "outputs": [],
   "source": [
    "from implementations import *\n",
    "from cross_validation import *\n",
    "from helpers import *\n",
    "from run import *"
   ]
  },
  {
   "cell_type": "code",
   "execution_count": 4,
   "metadata": {},
   "outputs": [],
   "source": [
    "DATA_TRAIN_PATH = '../data/train.csv'\n",
    "y, tX, ids = load_csv_data(DATA_TRAIN_PATH, sub_sample=False)\n",
    "np.random.seed(1)\n",
    "indices = np.random.permutation(len(y))\n",
    "train_percentage = 0.8\n",
    "cutoff_idx = int(train_percentage*len(y))\n",
    "y_train = y[indices[:cutoff_idx]]\n",
    "tX_train = tX[indices[:cutoff_idx]]\n",
    "ids_train = ids[indices[:cutoff_idx]]\n",
    "y_test = y[indices[cutoff_idx:]]\n",
    "tX_test = tX[indices[cutoff_idx:]]\n",
    "ids_test = ids[indices[cutoff_idx:]]"
   ]
  },
  {
   "cell_type": "markdown",
   "metadata": {},
   "source": [
    "## Dropping columns with ```nan```"
   ]
  },
  {
   "cell_type": "code",
   "execution_count": 5,
   "metadata": {},
   "outputs": [],
   "source": [
    "y_train_0 =y_train.copy()\n",
    "y_train_0[y_train_0 == -1] = 0\n",
    "\n",
    "tX_train_drop_invalid = tX_train.copy()\n",
    "tX_train_drop_invalid = tX_train_drop_invalid[:, ~np.any(tX_train_drop_invalid == -999., axis=0)]\n",
    "\n",
    "y_test_0 =y_test.copy()\n",
    "y_test_0[y_test_0 == -1] = 0\n",
    "tX_test_drop_invalid = tX_test.copy()\n",
    "tX_test_drop_invalid = tX_test_drop_invalid[:, ~np.any(tX_train == -999., axis=0)]"
   ]
  },
  {
   "cell_type": "code",
   "execution_count": 8,
   "metadata": {},
   "outputs": [],
   "source": [
    "tX_0, tX_1, tX_2, tX_3, y_0, y_1, y_2, y_3, ids_0, ids_1, ids_2, ids_3 =\\\n",
    "    separate_data(tX_train_drop_invalid, y_train_0, ids_train)"
   ]
  },
  {
   "cell_type": "code",
   "execution_count": 10,
   "metadata": {},
   "outputs": [],
   "source": [
    "tx_0_expanded, tx_1_expanded, tx_2_expanded, tx_3_expanded, means, stds =\\\n",
    "standardize_train(tX_0, tX_1, tX_2, tX_3)"
   ]
  },
  {
   "cell_type": "code",
   "execution_count": 14,
   "metadata": {},
   "outputs": [],
   "source": [
    "list_tX_test, list_y_test, list_ids_test =\\\n",
    "    prepare_test(tX_test_drop_invalid, y_test_0, means, stds, ids_test)"
   ]
  },
  {
   "cell_type": "markdown",
   "metadata": {},
   "source": [
    "## Ridge regression tuning"
   ]
  },
  {
   "cell_type": "code",
   "execution_count": 83,
   "metadata": {},
   "outputs": [
    {
     "name": "stdout",
     "output_type": "stream",
     "text": [
      "Degree = 1\n",
      "(79874, 18)\n",
      "Fold = 1\n",
      "Fold = 2\n",
      "Fold = 3\n",
      "Fold = 4\n",
      "Degree = 2\n",
      "(79874, 35)\n",
      "Fold = 1\n",
      "Fold = 2\n",
      "Fold = 3\n",
      "Fold = 4\n",
      "Degree = 3\n",
      "(79874, 52)\n",
      "Fold = 1\n",
      "Fold = 2\n",
      "Fold = 3\n",
      "Fold = 4\n",
      "Degree = 4\n",
      "(79874, 69)\n",
      "Fold = 1\n",
      "Fold = 2\n",
      "Fold = 3\n",
      "Fold = 4\n",
      "Degree = 5\n",
      "(79874, 86)\n",
      "Fold = 1\n",
      "Fold = 2\n",
      "Fold = 3\n",
      "Fold = 4\n",
      "Degree = 6\n",
      "(79874, 103)\n",
      "Fold = 1\n",
      "Fold = 2\n",
      "Fold = 3\n",
      "Fold = 4\n",
      "Degree = 7\n",
      "(79874, 120)\n",
      "Fold = 1\n",
      "Fold = 2\n",
      "Fold = 3\n",
      "Fold = 4\n",
      "Degree = 8\n",
      "(79874, 137)\n",
      "Fold = 1\n",
      "Fold = 2\n",
      "Fold = 3\n",
      "Fold = 4\n",
      "Degree = 9\n",
      "(79874, 154)\n",
      "Fold = 1\n",
      "Fold = 2\n",
      "Fold = 3\n",
      "Fold = 4\n",
      "Degree = 10\n",
      "(79874, 171)\n",
      "Fold = 1\n",
      "Fold = 2\n",
      "Fold = 3\n",
      "Fold = 4\n",
      "Degree = 11\n",
      "(79874, 188)\n",
      "Fold = 1\n",
      "Fold = 2\n",
      "Fold = 3\n",
      "Fold = 4\n",
      "Degree = 12\n",
      "(79874, 205)\n",
      "Fold = 1\n",
      "Fold = 2\n",
      "Fold = 3\n",
      "Fold = 4\n",
      "Degree = 13\n",
      "(79874, 222)\n",
      "Fold = 1\n",
      "Fold = 2\n",
      "Fold = 3\n",
      "Fold = 4\n",
      "Degree = 14\n",
      "(79874, 239)\n",
      "Fold = 1\n",
      "Fold = 2\n",
      "Fold = 3\n",
      "Fold = 4\n",
      "Degree = 15\n",
      "(79874, 256)\n",
      "Fold = 1\n",
      "Fold = 2\n",
      "Fold = 3\n",
      "Fold = 4\n",
      "(13, 0)\n",
      "0.059493051908617166\n"
     ]
    }
   ],
   "source": [
    "lambdas = np.logspace(-8, -1, 8)\n",
    "degrees = np.array([1,2,3,4, 5, 6, 7, 8, 9, 10, 11, 12, 13, 14, 15])\n",
    "K=4\n",
    "training_errors, validation_errors =\\\n",
    "lambda_degree_ridge_cv(y_0, tX_0, lambdas,degrees, K,1)\n",
    "\n",
    "val_error_deg_lambda = np.mean(validation_errors, axis=0)\n",
    "np.nanargmin(val_error_deg_lambda)\n",
    "idx_min = np.unravel_index(np.nanargmin(val_error_deg_lambda), val_error_deg_lambda.shape)\n",
    "print(idx_min)\n",
    "print(val_error_deg_lambda[idx_min])"
   ]
  },
  {
   "cell_type": "code",
   "execution_count": 84,
   "metadata": {},
   "outputs": [
    {
     "name": "stdout",
     "output_type": "stream",
     "text": [
      "Degree = 1\n",
      "(62094, 19)\n",
      "Fold = 1\n",
      "Fold = 2\n",
      "Fold = 3\n",
      "Fold = 4\n",
      "Degree = 2\n",
      "(62094, 37)\n",
      "Fold = 1\n",
      "Fold = 2\n",
      "Fold = 3\n",
      "Fold = 4\n",
      "Degree = 3\n",
      "(62094, 55)\n",
      "Fold = 1\n",
      "Fold = 2\n",
      "Fold = 3\n",
      "Fold = 4\n",
      "Degree = 4\n",
      "(62094, 73)\n",
      "Fold = 1\n",
      "Fold = 2\n",
      "Fold = 3\n",
      "Fold = 4\n",
      "Degree = 5\n",
      "(62094, 91)\n",
      "Fold = 1\n",
      "Fold = 2\n",
      "Fold = 3\n",
      "Fold = 4\n",
      "Degree = 6\n",
      "(62094, 109)\n",
      "Fold = 1\n",
      "Fold = 2\n",
      "Fold = 3\n",
      "Fold = 4\n",
      "Degree = 7\n",
      "(62094, 127)\n",
      "Fold = 1\n",
      "Fold = 2\n",
      "Fold = 3\n",
      "Fold = 4\n",
      "Degree = 8\n",
      "(62094, 145)\n",
      "Fold = 1\n",
      "Fold = 2\n",
      "Fold = 3\n",
      "Fold = 4\n",
      "Degree = 9\n",
      "(62094, 163)\n",
      "Fold = 1\n",
      "Fold = 2\n",
      "Fold = 3\n",
      "Fold = 4\n",
      "Degree = 10\n",
      "(62094, 181)\n",
      "Fold = 1\n",
      "Fold = 2\n",
      "Fold = 3\n",
      "Fold = 4\n",
      "Degree = 11\n",
      "(62094, 199)\n",
      "Fold = 1\n",
      "Fold = 2\n",
      "Fold = 3\n",
      "Fold = 4\n",
      "Degree = 12\n",
      "(62094, 217)\n",
      "Fold = 1\n",
      "Fold = 2\n",
      "Fold = 3\n",
      "Fold = 4\n",
      "Degree = 13\n",
      "(62094, 235)\n",
      "Fold = 1\n",
      "Fold = 2\n",
      "Fold = 3\n",
      "Fold = 4\n",
      "Degree = 14\n",
      "(62094, 253)\n",
      "Fold = 1\n",
      "Fold = 2\n",
      "Fold = 3\n",
      "Fold = 4\n",
      "Degree = 15\n",
      "(62094, 271)\n",
      "Fold = 1\n",
      "Fold = 2\n",
      "Fold = 3\n",
      "Fold = 4\n",
      "(14, 0)\n",
      "0.08189628227018213\n"
     ]
    }
   ],
   "source": [
    "lambdas = np.logspace(-8, -1, 8)\n",
    "degrees = np.array([1,2,3,4, 5, 6, 7, 8, 9, 10, 11, 12, 13, 14, 15])\n",
    "K=4\n",
    "training_errors, validation_errors =\\\n",
    "lambda_degree_ridge_cv(y_1, tX_1, lambdas,degrees, K,1)\n",
    "\n",
    "val_error_deg_lambda = np.mean(validation_errors, axis=0)\n",
    "np.nanargmin(val_error_deg_lambda)\n",
    "idx_min = np.unravel_index(np.nanargmin(val_error_deg_lambda), val_error_deg_lambda.shape)\n",
    "print(idx_min)\n",
    "print(val_error_deg_lambda[idx_min])"
   ]
  },
  {
   "cell_type": "code",
   "execution_count": 82,
   "metadata": {},
   "outputs": [
    {
     "name": "stdout",
     "output_type": "stream",
     "text": [
      "Degree = 1\n",
      "(40314, 19)\n",
      "Fold = 1\n",
      "Fold = 2\n",
      "Fold = 3\n",
      "Fold = 4\n",
      "Degree = 2\n",
      "(40314, 37)\n",
      "Fold = 1\n",
      "Fold = 2\n",
      "Fold = 3\n",
      "Fold = 4\n",
      "Degree = 3\n",
      "(40314, 55)\n",
      "Fold = 1\n",
      "Fold = 2\n",
      "Fold = 3\n",
      "Fold = 4\n",
      "Degree = 4\n",
      "(40314, 73)\n",
      "Fold = 1\n",
      "Fold = 2\n",
      "Fold = 3\n",
      "Fold = 4\n",
      "Degree = 5\n",
      "(40314, 91)\n",
      "Fold = 1\n",
      "Fold = 2\n",
      "Fold = 3\n",
      "Fold = 4\n",
      "Degree = 6\n",
      "(40314, 109)\n",
      "Fold = 1\n",
      "Fold = 2\n",
      "Fold = 3\n",
      "Fold = 4\n",
      "Degree = 7\n",
      "(40314, 127)\n",
      "Fold = 1\n",
      "Fold = 2\n",
      "Fold = 3\n",
      "Fold = 4\n",
      "Degree = 8\n",
      "(40314, 145)\n",
      "Fold = 1\n",
      "Fold = 2\n",
      "Fold = 3\n",
      "Fold = 4\n",
      "Degree = 9\n",
      "(40314, 163)\n",
      "Fold = 1\n",
      "Fold = 2\n",
      "Fold = 3\n",
      "Fold = 4\n",
      "Degree = 10\n",
      "(40314, 181)\n",
      "Fold = 1\n",
      "Fold = 2\n",
      "Fold = 3\n",
      "Fold = 4\n",
      "Degree = 11\n",
      "(40314, 199)\n",
      "Fold = 1\n",
      "Fold = 2\n",
      "Fold = 3\n",
      "Fold = 4\n",
      "Degree = 12\n",
      "(40314, 217)\n",
      "Fold = 1\n",
      "Fold = 2\n",
      "Fold = 3\n",
      "Fold = 4\n",
      "Degree = 13\n",
      "(40314, 235)\n",
      "Fold = 1\n",
      "Fold = 2\n",
      "Fold = 3\n",
      "Fold = 4\n",
      "(11, 0)\n",
      "0.08415136316578789\n"
     ]
    }
   ],
   "source": [
    "lambdas = np.logspace(-8, -1, 8)\n",
    "degrees = np.array([1,2,3,4, 5, 6, 7, 8, 9, 10, 11, 12, 13, 14, 15])\n",
    "K=4\n",
    "training_errors, validation_errors =\\\n",
    "lambda_degree_ridge_cv(y_2, tX_2, lambdas,degrees, K,1)\n",
    "\n",
    "val_error_deg_lambda = np.mean(validation_errors, axis=0)\n",
    "np.nanargmin(val_error_deg_lambda)\n",
    "idx_min = np.unravel_index(np.nanargmin(val_error_deg_lambda), val_error_deg_lambda.shape)\n",
    "print(idx_min)\n",
    "print(val_error_deg_lambda[idx_min])"
   ]
  },
  {
   "cell_type": "code",
   "execution_count": 85,
   "metadata": {},
   "outputs": [
    {
     "name": "stdout",
     "output_type": "stream",
     "text": [
      "Degree = 1\n",
      "(17718, 19)\n",
      "Fold = 1\n",
      "Fold = 2\n",
      "Fold = 3\n",
      "Fold = 4\n",
      "Degree = 2\n",
      "(17718, 37)\n",
      "Fold = 1\n",
      "Fold = 2\n",
      "Fold = 3\n",
      "Fold = 4\n",
      "Degree = 3\n",
      "(17718, 55)\n",
      "Fold = 1\n",
      "Fold = 2\n",
      "Fold = 3\n",
      "Fold = 4\n",
      "Degree = 4\n",
      "(17718, 73)\n",
      "Fold = 1\n",
      "Fold = 2\n",
      "Fold = 3\n",
      "Fold = 4\n",
      "Degree = 5\n",
      "(17718, 91)\n",
      "Fold = 1\n",
      "Fold = 2\n",
      "Fold = 3\n",
      "Fold = 4\n",
      "Degree = 6\n",
      "(17718, 109)\n",
      "Fold = 1\n",
      "Fold = 2\n",
      "Fold = 3\n",
      "Fold = 4\n",
      "Degree = 7\n",
      "(17718, 127)\n",
      "Fold = 1\n",
      "Fold = 2\n",
      "Fold = 3\n",
      "Fold = 4\n",
      "Degree = 8\n",
      "(17718, 145)\n",
      "Fold = 1\n",
      "Fold = 2\n",
      "Fold = 3\n",
      "Fold = 4\n",
      "Degree = 9\n",
      "(17718, 163)\n",
      "Fold = 1\n",
      "Fold = 2\n",
      "Fold = 3\n",
      "Fold = 4\n",
      "Degree = 10\n",
      "(17718, 181)\n",
      "Fold = 1\n",
      "Fold = 2\n",
      "Fold = 3\n",
      "Fold = 4\n",
      "Degree = 11\n",
      "(17718, 199)\n",
      "Fold = 1\n",
      "Fold = 2\n",
      "Fold = 3\n",
      "Fold = 4\n",
      "Degree = 12\n",
      "(17718, 217)\n",
      "Fold = 1\n",
      "Fold = 2\n",
      "Fold = 3\n",
      "Fold = 4\n",
      "Degree = 13\n",
      "(17718, 235)\n",
      "Fold = 1\n",
      "Fold = 2\n",
      "Fold = 3\n",
      "Fold = 4\n",
      "Degree = 14\n",
      "(17718, 253)\n",
      "Fold = 1\n",
      "Fold = 2\n",
      "Fold = 3\n",
      "Fold = 4\n",
      "Degree = 15\n",
      "(17718, 271)\n",
      "Fold = 1\n",
      "Fold = 2\n",
      "Fold = 3\n",
      "Fold = 4\n",
      "(14, 0)\n",
      "0.0814350243920801\n"
     ]
    }
   ],
   "source": [
    "lambdas = np.logspace(-8, -1, 8)\n",
    "degrees = np.array([1,2,3,4, 5, 6, 7, 8, 9, 10, 11, 12, 13, 14, 15])\n",
    "K=4\n",
    "training_errors, validation_errors =\\\n",
    "lambda_degree_ridge_cv(y_3, tX_3, lambdas,degrees, K,1)\n",
    "\n",
    "val_error_deg_lambda = np.mean(validation_errors, axis=0)\n",
    "np.nanargmin(val_error_deg_lambda)\n",
    "idx_min = np.unravel_index(np.nanargmin(val_error_deg_lambda), val_error_deg_lambda.shape)\n",
    "print(idx_min)\n",
    "print(val_error_deg_lambda[idx_min])"
   ]
  },
  {
   "cell_type": "markdown",
   "metadata": {},
   "source": [
    "## Create best models"
   ]
  },
  {
   "cell_type": "code",
   "execution_count": null,
   "metadata": {},
   "outputs": [],
   "source": [
    "def create_weights(list_y, list_tX, )"
   ]
  },
  {
   "cell_type": "code",
   "execution_count": 64,
   "metadata": {},
   "outputs": [
    {
     "name": "stdout",
     "output_type": "stream",
     "text": [
      "159.81115118485693 0.836168084042021\n"
     ]
    }
   ],
   "source": [
    "(w_0, loss_0) = ridge_regression(y_0, tx_0_expanded, 1e-8)\n",
    "loss = compute_mse_loss(list_y_test[0].reshape(-1,1), list_tX_test[0], w_0)\n",
    "acc = get_accuracy(list_y_test[0].reshape(-1,1), list_tX_test[0], w_0, 0.5)\n",
    "\n",
    "print(loss, acc)"
   ]
  },
  {
   "cell_type": "code",
   "execution_count": 40,
   "metadata": {},
   "outputs": [
    {
     "name": "stdout",
     "output_type": "stream",
     "text": [
      "0.09070264549620927 0.7625811427469632\n"
     ]
    }
   ],
   "source": [
    "(w_1, loss_1) = ridge_regression(y_1, tx_1_expanded, 1e-8)\n",
    "loss = compute_mse_loss(list_y_test[1].reshape(-1,1), list_tX_test[1], w_1)\n",
    "acc = get_accuracy(list_y_test[1].reshape(-1,1), list_tX_test[1], w_1, 0.5)\n",
    "\n",
    "print(loss, acc)"
   ]
  },
  {
   "cell_type": "code",
   "execution_count": 47,
   "metadata": {},
   "outputs": [
    {
     "name": "stdout",
     "output_type": "stream",
     "text": [
      "0.10194207006528733 0.7617957395978499\n"
     ]
    }
   ],
   "source": [
    "(w_2, loss_2) = ridge_regression(y_2, tx_2_expanded, 1e-8)\n",
    "loss = compute_mse_loss(list_y_test[2].reshape(-1,1), list_tX_test[2], w_2)\n",
    "acc = get_accuracy(list_y_test[2].reshape(-1,1), list_tX_test[2], w_2, 0.5)\n",
    "\n",
    "print(loss, acc)"
   ]
  },
  {
   "cell_type": "code",
   "execution_count": 65,
   "metadata": {},
   "outputs": [
    {
     "name": "stdout",
     "output_type": "stream",
     "text": [
      "30.83312731500105 0.7661748013620885\n"
     ]
    }
   ],
   "source": [
    "(w_3, loss_3) = ridge_regression(y_3, tx_3_expanded, 1e-8)\n",
    "loss = compute_mse_loss(list_y_test[3].reshape(-1,1), list_tX_test[3], w_3)\n",
    "acc = get_accuracy(list_y_test[3].reshape(-1,1), list_tX_test[3], w_3, 0.5)\n",
    "\n",
    "print(loss, acc)"
   ]
  },
  {
   "cell_type": "code",
   "execution_count": 66,
   "metadata": {},
   "outputs": [],
   "source": [
    "weights = [w_0, w_1, w_2, w_3]"
   ]
  },
  {
   "cell_type": "code",
   "execution_count": 62,
   "metadata": {},
   "outputs": [
    {
     "data": {
      "text/plain": [
       "array([[100000,     -1],\n",
       "       [100000,     -1],\n",
       "       [100007,      1],\n",
       "       ...,\n",
       "       [349990,     -1],\n",
       "       [349997,     -1],\n",
       "       [349998,      1]])"
      ]
     },
     "execution_count": 62,
     "metadata": {},
     "output_type": "execute_result"
    }
   ],
   "source": [
    "a = predict_4sets(list_tX, list_y, list_ids, weights)\n",
    "a"
   ]
  },
  {
   "cell_type": "code",
   "execution_count": 67,
   "metadata": {},
   "outputs": [
    {
     "name": "stdout",
     "output_type": "stream",
     "text": [
      "0.79216\n"
     ]
    }
   ],
   "source": [
    "correct=0\n",
    "n_total = 0\n",
    "for i in range(len(list_tX_test)):\n",
    "    curr_pred = list_tX_test[i]@weights[i]\n",
    "    curr_predicted_class = [0 if p<0.5 else 1 for p in curr_pred]\n",
    "    n = len(list_y[i])\n",
    "    n_total += n\n",
    "    for j in range(n):\n",
    "        if curr_predicted_class[j] == list_y_test[i][j]:\n",
    "            correct+=1\n",
    "\n",
    "  \n",
    "print(correct/n_total)"
   ]
  }
 ],
 "metadata": {
  "kernelspec": {
   "display_name": "Python [conda env:ada] *",
   "language": "python",
   "name": "conda-env-ada-py"
  },
  "language_info": {
   "codemirror_mode": {
    "name": "ipython",
    "version": 3
   },
   "file_extension": ".py",
   "mimetype": "text/x-python",
   "name": "python",
   "nbconvert_exporter": "python",
   "pygments_lexer": "ipython3",
   "version": "3.8.5"
  }
 },
 "nbformat": 4,
 "nbformat_minor": 4
}
