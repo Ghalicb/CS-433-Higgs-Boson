{
 "cells": [
  {
   "cell_type": "code",
   "execution_count": 1,
   "metadata": {
    "collapsed": true,
    "jupyter": {
     "outputs_hidden": true
    }
   },
   "outputs": [],
   "source": [
    "# Useful starting lines\n",
    "%matplotlib inline\n",
    "import numpy as np\n",
    "import matplotlib.pyplot as plt\n",
    "%load_ext autoreload\n",
    "%autoreload 2"
   ]
  },
  {
   "cell_type": "code",
   "execution_count": 2,
   "metadata": {},
   "outputs": [],
   "source": [
    "from implementations import *\n",
    "from cross_validation import *\n",
    "from losses import *\n",
    "from helpers import *"
   ]
  },
  {
   "cell_type": "markdown",
   "metadata": {},
   "source": [
    "## Load the data"
   ]
  },
  {
   "cell_type": "code",
   "execution_count": 3,
   "metadata": {},
   "outputs": [],
   "source": [
    "DATA_TRAIN_PATH = '../data/train.csv'\n",
    "y_train, tX_train, ids_train = load_csv_data(DATA_TRAIN_PATH, sub_sample=False)"
   ]
  },
  {
   "cell_type": "markdown",
   "metadata": {},
   "source": [
    "## Data preprocessing"
   ]
  },
  {
   "cell_type": "code",
   "execution_count": 4,
   "metadata": {},
   "outputs": [
    {
     "ename": "NameError",
     "evalue": "name 'helpers' is not defined",
     "output_type": "error",
     "traceback": [
      "\u001b[0;31m---------------------------------------------------------------------------\u001b[0m",
      "\u001b[0;31mNameError\u001b[0m                                 Traceback (most recent call last)",
      "\u001b[0;32m<ipython-input-4-d6d740a34138>\u001b[0m in \u001b[0;36m<module>\u001b[0;34m\u001b[0m\n\u001b[1;32m     24\u001b[0m \u001b[0;31m### Feature expansion\u001b[0m\u001b[0;34m\u001b[0m\u001b[0;34m\u001b[0m\u001b[0;34m\u001b[0m\u001b[0m\n\u001b[1;32m     25\u001b[0m \u001b[0mdegree\u001b[0m \u001b[0;34m=\u001b[0m \u001b[0;36m3\u001b[0m\u001b[0;34m\u001b[0m\u001b[0;34m\u001b[0m\u001b[0m\n\u001b[0;32m---> 26\u001b[0;31m \u001b[0mtX_train_drop_invalid\u001b[0m \u001b[0;34m=\u001b[0m \u001b[0mhelpers\u001b[0m\u001b[0;34m.\u001b[0m\u001b[0mbuild_poly\u001b[0m\u001b[0;34m(\u001b[0m\u001b[0mtX_train_drop_invalid\u001b[0m\u001b[0;34m,\u001b[0m \u001b[0mdegree\u001b[0m\u001b[0;34m)\u001b[0m\u001b[0;34m\u001b[0m\u001b[0;34m\u001b[0m\u001b[0m\n\u001b[0m\u001b[1;32m     27\u001b[0m \u001b[0mtX_train_replace_invalid\u001b[0m \u001b[0;34m=\u001b[0m \u001b[0mhelpers\u001b[0m\u001b[0;34m.\u001b[0m\u001b[0mbuild_poly\u001b[0m\u001b[0;34m(\u001b[0m\u001b[0mtX_train_replace_invalid\u001b[0m\u001b[0;34m,\u001b[0m \u001b[0mdegree\u001b[0m\u001b[0;34m)\u001b[0m\u001b[0;34m\u001b[0m\u001b[0;34m\u001b[0m\u001b[0m\n",
      "\u001b[0;31mNameError\u001b[0m: name 'helpers' is not defined"
     ]
    }
   ],
   "source": [
    "### Relabel the output y from {-1,1} to {0,1}\n",
    "y_train[y_train == -1] = 0\n",
    "\n",
    "### Dealing with invalid data & Normalize data\n",
    "# a. Dataset where columns containing invalid data are dropped\n",
    "tX_train_drop_invalid = tX_train.copy()\n",
    "tX_train_drop_invalid = tX_train_drop_invalid[:, ~np.any(tX_train_drop_invalid == -999., axis=0)]\n",
    "\n",
    "tX_train_di_means = np.mean(tX_train_drop_invalid, axis=0)\n",
    "tX_train_di_stds = np.std(tX_train_drop_invalid, axis=0)\n",
    "\n",
    "tX_train_drop_invalid = (tX_train_drop_invalid - tX_train_di_means)/tX_train_di_stds\n",
    "\n",
    "# b. Dataset where columns containing invalid data are replaced by the mean of the corresponding feature\n",
    "tX_train_replace_invalid = tX_train.copy()\n",
    "tX_train_replace_invalid[tX_train_replace_invalid == -999.] = np.nan\n",
    "\n",
    "tX_train_ri_means = np.nanmean(tX_train_replace_invalid, axis=0)\n",
    "tX_train_ri_stds = np.nanstd(tX_train_replace_invalid, axis=0)\n",
    "\n",
    "tX_train_replace_invalid = (tX_train_replace_invalid - tX_train_ri_means)/tX_train_ri_stds\n",
    "tX_train_replace_invalid[np.isnan(tX_train_replace_invalid)] = 0\n",
    "\n",
    "### Feature expansion\n",
    "degree = 3\n",
    "# tX_train_drop_invalid = build_poly(tX_train_drop_invalid, degree)\n",
    "# tX_train_replace_invalid = build_poly(tX_train_replace_invalid, degree)"
   ]
  },
  {
   "cell_type": "code",
   "execution_count": null,
   "metadata": {
    "lines_to_end_of_cell_marker": 0,
    "lines_to_next_cell": 1
   },
   "outputs": [],
   "source": [
    "tX = tX_train_replace_invalid"
   ]
  },
  {
   "cell_type": "code",
   "execution_count": null,
   "metadata": {
    "lines_to_next_cell": 0
   },
   "outputs": [],
   "source": [
    "# ## Model training"
   ]
  },
  {
   "cell_type": "code",
   "execution_count": null,
   "metadata": {
    "lines_to_end_of_cell_marker": 0,
    "lines_to_next_cell": 0
   },
   "outputs": [],
   "source": [
    "def lambda_gamma_sgd_cv(y, tx, algorithm, lambdas, gammas, K, max_iters, batch_size, seed):\n",
    "  \"\"\"Do K-fold cross-validation for each value in lambdas and gammas, at every iteration.\n",
    "  \n",
    "  Inputs:\n",
    "  y : np array\n",
    "    (N, 1) or (N,)\n",
    "  tx : np array\n",
    "    (N, D)\n",
    "  algorithm : string\n",
    "    The algorithm to use for training\n",
    "    Can take any value in { \"LEAST_SQUARE\" , \"LOGISTIC_REGRESSION\", \"REGULARIZED_LOGISTIC_REGRESSION\"}\n",
    "  lambdas : iterable\n",
    "    Regularisation parameters for cost function\n",
    "  gamma : iterable\n",
    "    Learning rates for SGD\n",
    "  K : int\n",
    "    Number of folds\n",
    "  max_iters : int\n",
    "    Maxium number of iterations for SGD\n",
    "  batch_size : int\n",
    "    Size of mini-batches\n",
    "  seed : int\n",
    "    Seed for pseudo-random number generation\n",
    "  \n",
    "  Outputs:\n",
    "  w_best : np array\n",
    "    (D, len(lambdas), len(lambdas))\n",
    "    Trained weights that produced the smallest validation error\n",
    "    over all folds, for each lambda and gamma\n",
    "  training_errors : np array\n",
    "    (K, len(lambdas), len(lambdas))\n",
    "    Training loss for each fold, for each lambda and gamma\n",
    "  validation_errors : np array\n",
    "    (K, len(lambdas), len(lambdas))\n",
    "    Validation loss for each fold, for each lambda and gamma\n",
    "  \"\"\"\n",
    "  # loss = loss_kinds[algorithm][0]\n",
    "  y, tx = prepare_dimensions(y, tx)\n",
    "\n",
    "  N = len(y)\n",
    "  len_lambdas = len(lambdas)\n",
    "  len_gammas = len(gammas)\n",
    "\n",
    "  initial_w = np.ones((tx.shape[1], 1))\n",
    "  w_best = np.zeros((tx.shape[1], len_lambdas, len_gammas))\n",
    "\n",
    "  training_errors = np.zeros((K, len_lambdas, len_gammas))\n",
    "  validation_errors = np.zeros((K, len_lambdas, len_gammas))\n",
    "  min_error = np.inf * np.ones((len_lambdas, len_gammas))\n",
    "\n",
    "  k_indices = build_k_indices(y, K, seed)\n",
    "\n",
    "  for k in range(K):\n",
    "    # Take all but the k-th row of tx and y\n",
    "    tx_train, y_train = map(lambda a: a[np.delete(k_indices, k).flatten()], (tx, y))\n",
    "    # Take the k-th row of tx and y\n",
    "    tx_test, y_test = map(lambda a: a[k_indices[k]], (tx, y))\n",
    "\n",
    "    for i, lambda_ in enumerate(lambdas):\n",
    "      for j, gamma in enumerate(gammas):\n",
    "        # Train\n",
    "        w, loss_tr = SGD(y_train, tx_train, initial_w, max_iters, gamma, algorithm, batch_size, lambda_)\n",
    "        # Test\n",
    "        # loss_te = loss(y_test, tx_test, w, lambda_)\n",
    "        loss_te = compute_mse_loss(y_test, tx_test, w, lambda_)\n",
    "        \n",
    "        training_errors[k, i, j] = loss_tr\n",
    "        validation_errors[k, i, j] = loss_te\n",
    "\n",
    "        # Keep the weights that give the lowest loss_te\n",
    "        if loss_te < min_error[i, j]:\n",
    "          min_error[i, j] = loss_te\n",
    "          w_best[:, i, j] = w.ravel()\n",
    "\n",
    "  return w_best, training_errors, validation_errors\n",
    "# -"
   ]
  },
  {
   "cell_type": "code",
   "execution_count": null,
   "metadata": {
    "lines_to_next_cell": 1
   },
   "outputs": [],
   "source": [
    "def lambda_gamma_ridge_cv(y, tx, lambdas, K, max_iters, batch_size, seed):\n",
    "  \"\"\"Do K-fold cross-validation with ridge regression for each value in lambdas, at every iteration.\n",
    "  \n",
    "  Inputs:\n",
    "  y : np array\n",
    "    (N, 1) or (N,)\n",
    "  tx : np array\n",
    "    (N, D)\n",
    "  lambdas : iterable\n",
    "    Regularisation parameters for cost function\n",
    "  K : int\n",
    "    Number of folds\n",
    "  max_iters : int\n",
    "    Maxium number of iterations for SGD\n",
    "  batch_size : int\n",
    "    Size of mini-batches\n",
    "  seed : int\n",
    "    Seed for pseudo-random number generation\n",
    "  \n",
    "  Outputs:\n",
    "  w_best : np array\n",
    "    (D, len(lambdas))\n",
    "    Trained weights that produced the smallest validation error\n",
    "    over all folds, for each lambda and gamma\n",
    "  training_errors : np array\n",
    "    (K, len(lambdas))\n",
    "    Training loss for each fold, for each lambda\n",
    "  validation_errors : np array\n",
    "    (K, len(lambdas))\n",
    "    Validation loss for each fold, for each lambda\n",
    "  \"\"\"\n",
    "  y, tx = prepare_dimensions(y, tx)\n",
    "\n",
    "  N = len(y)\n",
    "  len_lambdas = len(lambdas)\n",
    "\n",
    "  initial_w = np.ones((tx.shape[1], 1))\n",
    "  w_best = np.zeros((tx.shape[1], len_lambdas))\n",
    "\n",
    "  training_errors = np.zeros((K, len_lambdas))\n",
    "  validation_errors = np.zeros((K, len_lambdas))\n",
    "  min_error = np.inf * np.ones((len_lambdas))\n",
    "\n",
    "  k_indices = build_k_indices(y, K, seed)\n",
    "\n",
    "  for k in range(K):\n",
    "    # Take all but the k-th row of tx and y\n",
    "    tx_train, y_train = map(lambda a: a[np.delete(k_indices, k).flatten()], (tx, y))\n",
    "    # Take the k-th row of tx and y\n",
    "    tx_test, y_test = map(lambda a: a[k_indices[k]], (tx, y))\n",
    "\n",
    "    for i, lambda_ in enumerate(lambdas):\n",
    "      # Train\n",
    "      w, loss_tr = ridge_regression(y, tx, lambda_)\n",
    "      # Test\n",
    "      loss_te = compute_mse_loss(y_test, tx_test, w)\n",
    "      \n",
    "      training_errors[k, i] = loss_tr\n",
    "      validation_errors[k, i] = loss_te\n",
    "\n",
    "      # Keep the weights that give the lowest loss_te\n",
    "      if loss_te < min_error[i]:\n",
    "        min_error[i] = loss_te\n",
    "        w_best[:, i] = w.ravel()\n",
    "\n",
    "  return w_best, training_errors, validation_errors"
   ]
  },
  {
   "cell_type": "code",
   "execution_count": null,
   "metadata": {},
   "outputs": [],
   "source": [
    "lambdas = np.logspace(-10, -1, 10)\n",
    "gammas = np.logspace(-5, 1, 5)\n",
    "K = 4\n",
    "max_iters = 100\n",
    "batch_size = 1\n",
    "seed = 1\n",
    "\n",
    "# w_best, training_errors, validation_errors = lambda_gamma_ridge_cv(y_train, tX, lambdas, K, max_iters, batch_size, seed)\n",
    "w_best, training_errors, validation_errors = lambda_gamma_sgd_cv(y_train, tX, \"REGULARIZED_LOGISTIC_REGRESSION\", lambdas, gammas, K, max_iters, batch_size, seed)"
   ]
  },
  {
   "cell_type": "code",
   "execution_count": null,
   "metadata": {
    "lines_to_next_cell": 1
   },
   "outputs": [],
   "source": [
    "# Save data to file, to be used by LaTeX\n",
    "a = np.column_stack((lambdas, np.average(training_errors[:, :, 0], axis=0)))\n",
    "np.savetxt('../../latex-example-paper/figures/RRseed{}.txt'.format(seed),\n",
    "           a,\n",
    "           header = 'lambda tr_loss\\n# gamma = {}'.format(gammas[0]),\n",
    "           comments = '')\n",
    "# -"
   ]
  },
  {
   "cell_type": "code",
   "execution_count": null,
   "metadata": {},
   "outputs": [],
   "source": [
    "# Run a convergence test\n",
    "algo_dict = {\n",
    "  \"REGULARIZED_LOGISTIC_REGRESSION\" : \"reg_logist\",\n",
    "  \"LEAST_SQUARE\" : \"least_sq\",\n",
    "  \"LOGISTIC_REGRESSION\" : \"logist\",\n",
    "}\n",
    "\n",
    "def convergence_test(algorithm, y, tx, K, seed, max_iters, lambda_, gamma):\n",
    "  # seed = 666\n",
    "  # y = y_train\n",
    "  k_indices = build_k_indices(y, K, seed)\n",
    "  k = 0\n",
    "  # Take all but the k-th row of tx and y\n",
    "  tx_train, y_train_ = map(lambda a: a[np.delete(k_indices, k).flatten()], (tX, y))\n",
    "  # Take the k-th row of tx and y\n",
    "  tx_test, y_test = map(lambda a: a[k_indices[k]], (tX, y))\n",
    "\n",
    "  # max_iters = 3000\n",
    "  # lambda_ = 0.1\n",
    "  # gamma = 1e-2\n",
    "\n",
    "\n",
    "  w, loss, training_errors, validation_errors = SGD(\n",
    "    y_train_,\n",
    "    tx_train,\n",
    "    initial_w = np.ones(tx.shape[1]),\n",
    "    max_iters = max_iters,\n",
    "    gamma = gamma,\n",
    "    loss_kind = algorithm,\n",
    "    batch_size = 1,\n",
    "    lambda_ = lambda_,\n",
    "    verbose = True,\n",
    "    validation_y = y_test,\n",
    "    validation_tx = tx_test)\n",
    "\n",
    "  training_errors = list(map(lambda x: x/len(y_train_), training_errors))\n",
    "  validation_errors = list(map(lambda x: x/len(y_test), validation_errors))\n",
    "\n",
    "  # Save to file\n",
    "  a = np.column_stack((np.arange(1,max_iters), training_errors[1:], validation_errors[1:])) # When epoch is 0 LaTeX complains\n",
    "  np.savetxt('../../latex-example-paper/figures/conv_{}_seed{}.txt'.format(algo_dict[algorithm], seed),\n",
    "             a,\n",
    "             header = 'epoch tr_loss val_loss\\n# gamma = {}, lambda = {}'.format(gamma, lambda_),\n",
    "             comments = '')\n",
    "\n",
    "  return w, loss, training_errors, validation_errors\n"
   ]
  },
  {
   "cell_type": "code",
   "execution_count": null,
   "metadata": {
    "lines_to_next_cell": 2
   },
   "outputs": [],
   "source": [
    "# Save to file\n",
    "a = np.column_stack((np.arange(1,max_iters), training_errors[1:], validation_errors[1:])) # When epoch is 0 LaTeX complains\n",
    "np.savetxt('../../latex-example-paper/figures/converg_reg_log_seed{}.txt'.format(seed),\n",
    "           a,\n",
    "           header = 'epoch tr_loss val_loss\\n# gamma = {}, lambda = {}'.format(gamma, lambda_),\n",
    "           comments = '')"
   ]
  },
  {
   "cell_type": "markdown",
   "metadata": {},
   "source": [
    "## Generate predictions and save ouput in csv format for submission:"
   ]
  },
  {
   "cell_type": "code",
   "execution_count": null,
   "metadata": {},
   "outputs": [],
   "source": [
    "DATA_TEST_PATH = '../data/test.csv'\n",
    "# y_test, tX_test, ids_test = load_csv_data(DATA_TEST_PATH, sub_sample=False)"
   ]
  },
  {
   "cell_type": "markdown",
   "metadata": {},
   "source": [
    "Relabel the output y from {-1,1} to {0,1}"
   ]
  },
  {
   "cell_type": "markdown",
   "metadata": {},
   "source": [
    "y_test[y_test == -1] = 0"
   ]
  },
  {
   "cell_type": "code",
   "execution_count": null,
   "metadata": {},
   "outputs": [],
   "source": [
    "OUTPUT_PATH = '' # TODO: fill in desired name of output file for submission\n",
    "# y_pred = predict_labels(weights, tX_test)\n",
    "# create_csv_submission(ids_test, y_pred, OUTPUT_PATH)"
   ]
  },
  {
   "cell_type": "code",
   "execution_count": null,
   "metadata": {
    "jupyter": {
     "outputs_hidden": true
    }
   },
   "outputs": [],
   "source": []
  }
 ],
 "metadata": {
  "anaconda-cloud": {},
  "jupytext": {
   "formats": "ipynb,py"
  },
  "kernelspec": {
   "display_name": "Python 3",
   "language": "python",
   "name": "python3"
  },
  "language_info": {
   "codemirror_mode": {
    "name": "ipython",
    "version": 3
   },
   "file_extension": ".py",
   "mimetype": "text/x-python",
   "name": "python",
   "nbconvert_exporter": "python",
   "pygments_lexer": "ipython3",
   "version": "3.8.1"
  }
 },
 "nbformat": 4,
 "nbformat_minor": 4
}
